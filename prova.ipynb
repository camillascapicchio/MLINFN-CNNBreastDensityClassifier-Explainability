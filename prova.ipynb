{
 "cells": [
  {
   "cell_type": "code",
   "execution_count": null,
   "metadata": {},
   "outputs": [],
   "source": [
    "\"\"\"\n",
    "main.py\n",
    "====================================\n",
    "The core module of my example project\n",
    "\"\"\"\n",
    "\n",
    "def about_me(your_name):\n",
    "    \"\"\"\n",
    "    Return the most important thing about a person.\n",
    "    Parameters\n",
    "    ----------\n",
    "    your_name\n",
    "        A string indicating the name of the person.\n",
    "    \"\"\"\n",
    "    return \"The wise {} loves Python.\".format(your_name)\n",
    "\n",
    "\n",
    "class ExampleClass:\n",
    "    \"\"\"An example docstring for a class definition.\"\"\"\n",
    "\n",
    "    def __init__(self, name):\n",
    "        \"\"\"\n",
    "        Blah blah blah.\n",
    "        Parameters\n",
    "        ---------\n",
    "        name\n",
    "            A string to assign to the `name` instance attribute.\n",
    "        \"\"\"\n",
    "        self.name = name\n",
    "\n",
    "    def about_self(self):\n",
    "        \"\"\"\n",
    "        Return information about an instance created from ExampleClass.\n",
    "        \"\"\"\n",
    "        return \"I am a very smart {} object.\".format(self.name)"
   ]
  }
 ],
 "metadata": {
  "kernelspec": {
   "display_name": "Python 2",
   "language": "python",
   "name": "python2"
  },
  "language_info": {
   "codemirror_mode": {
    "name": "ipython",
    "version": 2
   },
   "file_extension": ".py",
   "mimetype": "text/x-python",
   "name": "python",
   "nbconvert_exporter": "python",
   "pygments_lexer": "ipython2",
   "version": "2.7.15+"
  }
 },
 "nbformat": 4,
 "nbformat_minor": 2
}
